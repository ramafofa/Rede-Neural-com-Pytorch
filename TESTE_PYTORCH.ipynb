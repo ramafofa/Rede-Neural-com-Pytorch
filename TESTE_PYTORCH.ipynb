{
  "nbformat": 4,
  "nbformat_minor": 0,
  "metadata": {
    "colab": {
      "provenance": [],
      "gpuType": "T4",
      "authorship_tag": "ABX9TyODxVqROepD/iu2HoA6CX5s",
      "include_colab_link": true
    },
    "kernelspec": {
      "name": "python3",
      "display_name": "Python 3"
    },
    "language_info": {
      "name": "python"
    },
    "accelerator": "GPU"
  },
  "cells": [
    {
      "cell_type": "markdown",
      "metadata": {
        "id": "view-in-github",
        "colab_type": "text"
      },
      "source": [
        "<a href=\"https://colab.research.google.com/github/ramafofa/Rede-Neural-com-Pytorch/blob/main/TESTE_PYTORCH.ipynb\" target=\"_parent\"><img src=\"https://colab.research.google.com/assets/colab-badge.svg\" alt=\"Open In Colab\"/></a>"
      ]
    },
    {
      "cell_type": "code",
      "execution_count": 43,
      "metadata": {
        "id": "cff7ydJnHz4F"
      },
      "outputs": [],
      "source": [
        "import torch\n",
        "import numpy as np\n",
        "from torch import nn\n"
      ]
    },
    {
      "cell_type": "code",
      "source": [
        "##Classe que representa a rede neural\n",
        "class LineNetwork(nn.Module):\n",
        "    def __init__(self):\n",
        "        super().__init__()\n",
        "        self.camadas = nn.Sequential(\n",
        "            nn.Linear(1, 1)\n",
        "        )\n",
        "\n",
        "    def forward(self, x):\n",
        "        return self.camadas(x)\n",
        "\n",
        "modelo = LineNetwork()\n",
        "print(list(modelo.parameters()))\n"
      ],
      "metadata": {
        "colab": {
          "base_uri": "https://localhost:8080/"
        },
        "id": "G9yE1y0qIFzv",
        "outputId": "f37f830f-adfe-4ee5-fa39-0cb1d84ddacf"
      },
      "execution_count": 44,
      "outputs": [
        {
          "output_type": "stream",
          "name": "stdout",
          "text": [
            "[Parameter containing:\n",
            "tensor([[-0.0437]], requires_grad=True), Parameter containing:\n",
            "tensor([-0.1232], requires_grad=True)]\n"
          ]
        }
      ]
    },
    {
      "cell_type": "code",
      "source": [
        "#Preparar estrutura de dados\n",
        "from torch.utils.data import Dataset, DataLoader\n",
        "import torch.distributions.uniform as urand"
      ],
      "metadata": {
        "id": "TZLUx_hRKiUt"
      },
      "execution_count": 45,
      "outputs": []
    },
    {
      "cell_type": "code",
      "source": [
        "#Classe que representa a amostra do conjunto de dados\n",
        "class DatasetAlgebrico(Dataset):\n",
        "  def __init__(self, f , interval, numero_amostras):\n",
        "    X = urand.Uniform(interval[0], interval[1]).sample([numero_amostras])\n",
        "    self.data = [(x, f(x) ) for x in X]\n",
        "\n",
        "  def __len__(self):\n",
        "    return len(self.data)\n",
        "\n",
        "  def __getitem__(self, index):\n",
        "    return self.data[index]"
      ],
      "metadata": {
        "id": "9DWTQBCnLMw0"
      },
      "execution_count": 46,
      "outputs": []
    },
    {
      "cell_type": "code",
      "source": [
        "#função para o treinamento\n",
        "linha = lambda x: 2*x +3\n",
        "interval = (-10, 10)\n",
        "amostras_para_treinamento = 1000\n",
        "amostras_para_teste = 100"
      ],
      "metadata": {
        "id": "Kcv4EXnnNLmz"
      },
      "execution_count": 47,
      "outputs": []
    },
    {
      "cell_type": "code",
      "source": [
        "#Treinamento\n",
        "treinar_dataset =  DatasetAlgebrico(linha,\n",
        "                                    interval,\n",
        "                                    amostras_para_treinamento)\n",
        "testar_dataset = DatasetAlgebrico(linha,\n",
        "                                  interval,\n",
        "                                  amostras_para_teste)\n",
        "\n",
        "treinar_dataloader = DataLoader(treinar_dataset,\n",
        "                                batch_size = amostras_para_treinamento,\n",
        "                                shuffle=True)\n",
        "testar_dataloader = DataLoader(treinar_dataset,\n",
        "                                batch_size = amostras_para_teste,\n",
        "                                shuffle=True)"
      ],
      "metadata": {
        "id": "Ybqy8i2BM9H-"
      },
      "execution_count": 48,
      "outputs": []
    },
    {
      "cell_type": "markdown",
      "source": [
        "##🧩 Resumo 1:\n",
        "\n",
        "Nessa primeira parte do código, a gente começa importando as bibliotecas que necessárias pra montar e treinar a rede neural. O PyTorch é o principal aqui, porque é ele que permite criar a estrutura do modelo e lidar com os dados de forma mais prática.\n",
        "\n",
        "Depois, criamos uma classe que representa a rede neural em si. Ela é bem simples: tem só uma camada linear, que serve pra aprender uma relação do tipo y = ax + b. Ou seja, a rede vai tentar descobrir quais valores de a e b fazem a reta ficar o mais parecida possível com a função original que a gente quer ensinar pra ela. Tipo aquilo que vimos na escola de plano cartesiano e, dependendo dos valores das variáveis, uma linha é traçada de determinada forma no plano.\n",
        "\n",
        "Em seguida, vem a classe que cria o conjunto de dados (dataset). Essa parte gera vários valores de entrada x dentro de um intervalo, e aplica a função f(x) pra calcular a saída. Assim, a gente monta um conjunto de pares (entrada, saída), que é o que o modelo vai usar pra aprender e testar.\n",
        "\n",
        "\n",
        "Por fim, definimos algumas variáveis pra dizer qual é o intervalo dos valores de entrada, quantas amostras vão ser usadas pra treino e quantas pra teste. Esses dados são então organizados em estruturas chamadas DataLoaders, que têm como função alimentar a máquina com os dados e, assim, treiná-la!\n",
        "O batch_size é o tamanho dos “grupinhos” de dados que a rede usa pra aprender. Em vez de mandar tudo de uma vez, a gente envia de pouco em pouco, o que ajuda o treino a ser mais eficiente. Aqui, foi atribuido a ele o número total de amostras de teste e treino, então a rede vê todos os dados por etapas e calcula a perda (loss) de forma mais precisa.\n",
        "\n",
        "#Analogia sobre a função do DataLoader 👶\n",
        "É como ter um bebê que acabou de começar a comer alimentos sólidos: O recomendado (geralmente) pelos pediatras é que os pais ofereçam sempre algo novo e deixem o bebê comer sozinho, porque isso ajuda ele a aprender (tipo descobrir como descascar uma banana vs uma tangerina), entender diferentes padrões, cores e texturas. Essa abordagem nutricional  ajuda muito no desenvolvimento da criança, pois dá pra ela um leque de diferentes padrões, assim como a máquina, que precisa ser alimentada com diferentes dados pra \"entender o que é uma banana e o que é uma tanjerina!\".\n"
      ],
      "metadata": {
        "id": "voCGlPW0Qps3"
      }
    },
    {
      "cell_type": "code",
      "source": [
        "device = \"cuda\" if torch.cuda.is_available() else \"cpu\"\n",
        "modelo.to(device)\n",
        "print(f\"Rodando em {device}\")"
      ],
      "metadata": {
        "colab": {
          "base_uri": "https://localhost:8080/"
        },
        "id": "N8yNlmt_jMwm",
        "outputId": "de21462e-6502-4bbc-ec5e-aada937e9e0a"
      },
      "execution_count": 49,
      "outputs": [
        {
          "output_type": "stream",
          "name": "stdout",
          "text": [
            "Rodando em cuda\n"
          ]
        }
      ]
    },
    {
      "cell_type": "code",
      "source": [
        "lossfunc = nn.MSELoss()\n",
        "optmizer = torch.optim.SGD(modelo.parameters(), lr=0.001)\n"
      ],
      "metadata": {
        "id": "Srr9l7K7PLdF"
      },
      "execution_count": 50,
      "outputs": []
    },
    {
      "cell_type": "code",
      "source": [
        "def treinamento(modelo, lossfunc, optimizer, dataloader):\n",
        "  modelo.train()\n",
        "  cumloss = 0.0\n",
        "  for X, y in dataloader:\n",
        "    X = X.unsqueeze(1).float().to(device)\n",
        "    y = y.unsqueeze(1).float().to(device)\n",
        "\n",
        "    pred = modelo(X)\n",
        "    loss = lossfunc(pred, y)\n",
        "    optimizer.zero_grad()\n",
        "    loss.backward()\n",
        "    optimizer.step()\n",
        "    cumloss += loss.item()\n",
        "  return cumloss / len(dataloader)\n",
        "\n",
        "def teste(modelo, lossfunc, dataloader):\n",
        "  modelo.eval()\n",
        "  cumloss = 0.0\n",
        "  with torch.no_grad():\n",
        "    for X, y in dataloader:\n",
        "     X = X.unsqueeze(1).float().to(device)\n",
        "     y = y.unsqueeze(1).float().to(device)\n",
        "\n",
        "    pred = modelo(X)\n",
        "    loss = lossfunc(pred, y)\n",
        "    cumloss += loss.item()\n",
        "  return cumloss / len(dataloader)\n"
      ],
      "metadata": {
        "id": "AdKVsNQfkI64"
      },
      "execution_count": 51,
      "outputs": []
    },
    {
      "cell_type": "code",
      "source": [
        "epochs = 101\n",
        "for t in range(epochs):\n",
        "  treino_loss = treinamento(modelo, lossfunc, optmizer, treinar_dataloader)\n",
        "  if t % 10 ==0:\n",
        "    print(f\"Epoch {t} | Treino Loss: {treino_loss:.4f}\")\n",
        "  teste_loss = teste(modelo, lossfunc, testar_dataloader)\n",
        "  print(f\"Teste Loss: {teste_loss:.4f}\")\n"
      ],
      "metadata": {
        "colab": {
          "base_uri": "https://localhost:8080/"
        },
        "id": "EPD6vz_spWe4",
        "outputId": "d9f392e8-2d51-4f32-c925-3426fb36772e"
      },
      "execution_count": 54,
      "outputs": [
        {
          "output_type": "stream",
          "name": "stdout",
          "text": [
            "Epoch 0 | Treino Loss: 6.4630\n",
            "Teste Loss: 0.6434\n",
            "Teste Loss: 0.6416\n",
            "Teste Loss: 0.6374\n",
            "Teste Loss: 0.6328\n",
            "Teste Loss: 0.6329\n",
            "Teste Loss: 0.6346\n",
            "Teste Loss: 0.6381\n",
            "Teste Loss: 0.6241\n",
            "Teste Loss: 0.6292\n",
            "Teste Loss: 0.6219\n",
            "Epoch 10 | Treino Loss: 6.2095\n",
            "Teste Loss: 0.6141\n",
            "Teste Loss: 0.6138\n",
            "Teste Loss: 0.6158\n",
            "Teste Loss: 0.6143\n",
            "Teste Loss: 0.6063\n",
            "Teste Loss: 0.6036\n",
            "Teste Loss: 0.6026\n",
            "Teste Loss: 0.5990\n",
            "Teste Loss: 0.6013\n",
            "Teste Loss: 0.5980\n",
            "Epoch 20 | Treino Loss: 5.9659\n",
            "Teste Loss: 0.5953\n",
            "Teste Loss: 0.5859\n",
            "Teste Loss: 0.5882\n",
            "Teste Loss: 0.5824\n",
            "Teste Loss: 0.5842\n",
            "Teste Loss: 0.5846\n",
            "Teste Loss: 0.5818\n",
            "Teste Loss: 0.5784\n",
            "Teste Loss: 0.5732\n",
            "Teste Loss: 0.5773\n",
            "Epoch 30 | Treino Loss: 5.7320\n",
            "Teste Loss: 0.5710\n",
            "Teste Loss: 0.5667\n",
            "Teste Loss: 0.5666\n",
            "Teste Loss: 0.5637\n",
            "Teste Loss: 0.5564\n",
            "Teste Loss: 0.5602\n",
            "Teste Loss: 0.5616\n",
            "Teste Loss: 0.5581\n",
            "Teste Loss: 0.5567\n",
            "Teste Loss: 0.5544\n",
            "Epoch 40 | Treino Loss: 5.5072\n",
            "Teste Loss: 0.5498\n",
            "Teste Loss: 0.5450\n",
            "Teste Loss: 0.5411\n",
            "Teste Loss: 0.5372\n",
            "Teste Loss: 0.5408\n",
            "Teste Loss: 0.5443\n",
            "Teste Loss: 0.5372\n",
            "Teste Loss: 0.5320\n",
            "Teste Loss: 0.5275\n",
            "Teste Loss: 0.5250\n",
            "Epoch 50 | Treino Loss: 5.2912\n",
            "Teste Loss: 0.5308\n",
            "Teste Loss: 0.5232\n",
            "Teste Loss: 0.5232\n",
            "Teste Loss: 0.5185\n",
            "Teste Loss: 0.5171\n",
            "Teste Loss: 0.5153\n",
            "Teste Loss: 0.5160\n",
            "Teste Loss: 0.5095\n",
            "Teste Loss: 0.5102\n",
            "Teste Loss: 0.5068\n",
            "Epoch 60 | Treino Loss: 5.0837\n",
            "Teste Loss: 0.5018\n",
            "Teste Loss: 0.5043\n",
            "Teste Loss: 0.4988\n",
            "Teste Loss: 0.4988\n",
            "Teste Loss: 0.4964\n",
            "Teste Loss: 0.4982\n",
            "Teste Loss: 0.4987\n",
            "Teste Loss: 0.4953\n",
            "Teste Loss: 0.4919\n",
            "Teste Loss: 0.4855\n",
            "Epoch 70 | Treino Loss: 4.8844\n",
            "Teste Loss: 0.4901\n",
            "Teste Loss: 0.4876\n",
            "Teste Loss: 0.4865\n",
            "Teste Loss: 0.4806\n",
            "Teste Loss: 0.4774\n",
            "Teste Loss: 0.4796\n",
            "Teste Loss: 0.4746\n",
            "Teste Loss: 0.4737\n",
            "Teste Loss: 0.4692\n",
            "Teste Loss: 0.4713\n",
            "Epoch 80 | Treino Loss: 4.6928\n",
            "Teste Loss: 0.4717\n",
            "Teste Loss: 0.4669\n",
            "Teste Loss: 0.4644\n",
            "Teste Loss: 0.4629\n",
            "Teste Loss: 0.4591\n",
            "Teste Loss: 0.4590\n",
            "Teste Loss: 0.4527\n",
            "Teste Loss: 0.4540\n",
            "Teste Loss: 0.4471\n",
            "Teste Loss: 0.4527\n",
            "Epoch 90 | Treino Loss: 4.5088\n",
            "Teste Loss: 0.4554\n",
            "Teste Loss: 0.4481\n",
            "Teste Loss: 0.4445\n",
            "Teste Loss: 0.4397\n",
            "Teste Loss: 0.4423\n",
            "Teste Loss: 0.4432\n",
            "Teste Loss: 0.4368\n",
            "Teste Loss: 0.4372\n",
            "Teste Loss: 0.4356\n",
            "Teste Loss: 0.4298\n",
            "Epoch 100 | Treino Loss: 4.3320\n",
            "Teste Loss: 0.4334\n"
          ]
        }
      ]
    },
    {
      "cell_type": "code",
      "source": [
        "import matplotlib.pyplot as plt\n",
        "\n",
        "modelo.eval()\n",
        "X_plot, y_plot = next(iter(testar_dataloader))\n",
        "X_plot = X_plot.unsqueeze(1).float().to(device)\n",
        "y_plot = y_plot.unsqueeze(1).float().to(device)\n",
        "y_pred = modelo(X_plot)\n",
        "\n",
        "plt.figure(figsize=(6,4))\n",
        "plt.scatter(X_plot.cpu().numpy(), y_plot.cpu().numpy(), label='Dados reais')\n",
        "plt.plot(X_plot.cpu().detach().numpy(), y_pred.cpu().detach().numpy(), 'r-', label='Predição da rede')\n",
        "plt.legend()\n",
        "plt.show()\n"
      ],
      "metadata": {
        "colab": {
          "base_uri": "https://localhost:8080/",
          "height": 368
        },
        "id": "XIsI8gAwrD-Y",
        "outputId": "25cce1b9-ad1a-4813-c49c-2e18b9b7acca"
      },
      "execution_count": 55,
      "outputs": [
        {
          "output_type": "display_data",
          "data": {
            "text/plain": [
              "<Figure size 600x400 with 1 Axes>"
            ],
            "image/png": "[encoded data removed]"
          },
          "metadata": {}
        }
      ]
    },
    {
      "cell_type": "markdown",
      "source": [
        "##Resumo Final – Treino, Teste e Ajuste de Pesos\n",
        "\n",
        "Nessa etapa, passamos a rede para a fase de aprendizado real, usando os dados que criamos e organizamos na primeira parte do código.\n",
        "\n",
        "# Funções de treino e teste\n",
        "\n",
        "A função treinamento() percorre os dados em lotes (batches), calcula a predição do modelo e mede o erro usando MSELoss (Mean Squared Error, ou erro quadrático médio). É com base nesse erro que a rede ajusta seus pesos, usando o algoritmo de gradiente descendente.\n",
        "\n",
        "A função teste() faz basicamente a mesma coisa, mas sem atualizar os pesos, pois ela serve só pra medir o desempenho real do modelo, e não ajustar.\n",
        "\n",
        "# Gradiente descendente e otimização\n",
        "\n",
        "A cada batch, zeramos os gradientes (pra que não acumulem), calculamos novos gradientes com loss.backward() e atualizamos os pesos com o otimizador SGD.\n",
        "\n",
        "É como se a rede estivesse perdida no centro da cidade, perguntando pra várias pessoas “por onde eu vou?”.A cada resposta (cada atualização), ela entende um pouquinho melhor o caminho certo até chegar onde precisa (até traçar a reta do caminho certo).\n",
        "\n",
        "# Tratamento de erros e estabilidade\n",
        "\n",
        "O MSE mede quão longe a predição da rede está da resposta real, e a loss média por batch mostra como o modelo vai melhorando ao longo das epochs.\n",
        "Formatar a loss com 4 casas decimais ajuda a acompanhar a evolução sem se perder em números gigantescos.\n",
        "\n",
        "#📊 Visualização\n",
        "\n",
        "“Tá, apareceu um monte de número. Isso é bom ou ruim?”\n",
        "É aí que entra o nosso herói: Matplotlib! Que nos permite visualizar tudo de forma clara e bonitinha!\n",
        "E, pelo que vimos, foram bons resultados!"
      ],
      "metadata": {
        "id": "HaScptcKvDg4"
      }
    }
  ]
}